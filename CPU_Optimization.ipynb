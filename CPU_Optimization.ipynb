{
  "nbformat": 4,
  "nbformat_minor": 0,
  "metadata": {
    "colab": {
      "provenance": []
    },
    "kernelspec": {
      "name": "python3",
      "display_name": "Python 3"
    },
    "language_info": {
      "name": "python"
    }
  },
  "cells": [
    {
      "cell_type": "code",
      "source": [
        "import tensorflow as tf\n",
        "import numpy as np\n",
        "import time\n",
        "from tensorflow.keras.datasets import mnist\n",
        "from tensorflow.keras.utils import to_categorical\n",
        "\n",
        "# Check GPU availability\n",
        "print(\"Num GPUs Available: \", len(tf.config.list_physical_devices('GPU')))\n"
      ],
      "metadata": {
        "colab": {
          "base_uri": "https://localhost:8080/"
        },
        "id": "Vo-bGTuJ_pms",
        "outputId": "95967b1d-912d-4592-8ff1-b064126418a5"
      },
      "execution_count": 12,
      "outputs": [
        {
          "output_type": "stream",
          "name": "stdout",
          "text": [
            "Num GPUs Available:  0\n"
          ]
        }
      ]
    },
    {
      "cell_type": "code",
      "source": [
        "# Load MNIST data\n",
        "(x_train, y_train), (x_test, y_test) = mnist.load_data()\n",
        "\n",
        "# Preprocess data\n",
        "x_train = x_train.reshape((x_train.shape[0], 28, 28, 1)).astype('float32') / 255\n",
        "x_test = x_test.reshape((x_test.shape[0], 28, 28, 1)).astype('float32') / 255\n",
        "y_train = to_categorical(y_train)\n",
        "y_test = to_categorical(y_test)\n"
      ],
      "metadata": {
        "id": "dCs1aNWM_rKR"
      },
      "execution_count": 13,
      "outputs": []
    },
    {
      "cell_type": "code",
      "source": [
        "def create_model():\n",
        "    model = tf.keras.Sequential([\n",
        "        tf.keras.layers.Conv2D(32, (3, 3), activation='relu', input_shape=(28, 28, 1)),\n",
        "        tf.keras.layers.MaxPooling2D((2, 2)),\n",
        "        tf.keras.layers.Conv2D(64, (3, 3), activation='relu'),\n",
        "        tf.keras.layers.MaxPooling2D((2, 2)),\n",
        "        tf.keras.layers.Conv2D(64, (3, 3), activation='relu'),\n",
        "        tf.keras.layers.Flatten(),\n",
        "        tf.keras.layers.Dense(64, activation='relu'),\n",
        "        tf.keras.layers.Dense(10, activation='softmax')\n",
        "    ])\n",
        "    model.compile(optimizer='adam', loss='categorical_crossentropy', metrics=['accuracy'])\n",
        "    return model"
      ],
      "metadata": {
        "id": "-MYAgQu5_uHX"
      },
      "execution_count": 14,
      "outputs": []
    },
    {
      "cell_type": "code",
      "source": [
        "# Train and evaluate model on CPU\n",
        "with tf.device('/CPU:0'):\n",
        "    model_cpu = create_model()\n",
        "    print(\"Training on CPU...\")\n",
        "\n",
        "    start_time = time.time()\n",
        "    history_cpu = model_cpu.fit(x_train, y_train, epochs=1, batch_size=64, validation_split=0.1, verbose=2)\n",
        "    end_time = time.time()\n",
        "    cpu_training_time = end_time - start_time\n",
        "\n",
        "    # Evaluate model\n",
        "    start_time = time.time()\n",
        "    test_loss, test_acc = model_cpu.evaluate(x_test, y_test, verbose=2)\n",
        "    end_time = time.time()\n",
        "    cpu_inference_time = end_time - start_time\n",
        "\n",
        "print(f\"CPU Training Time: {cpu_training_time:.2f} seconds\")\n",
        "print(f\"CPU Inference Time: {cpu_inference_time:.2f} seconds\")\n"
      ],
      "metadata": {
        "colab": {
          "base_uri": "https://localhost:8080/"
        },
        "id": "pAh-Fk3b_x7B",
        "outputId": "ea404bc6-298e-49a3-f193-af1cb0a8c26d"
      },
      "execution_count": 15,
      "outputs": [
        {
          "output_type": "stream",
          "name": "stdout",
          "text": [
            "Training on CPU...\n",
            "844/844 - 47s - 56ms/step - accuracy: 0.9426 - loss: 0.1909 - val_accuracy: 0.9850 - val_loss: 0.0534\n",
            "313/313 - 2s - 7ms/step - accuracy: 0.9833 - loss: 0.0529\n",
            "CPU Training Time: 84.55 seconds\n",
            "CPU Inference Time: 2.62 seconds\n"
          ]
        }
      ]
    },
    {
      "cell_type": "code",
      "source": [
        "# Define the custom CNN model using cuDNN\n",
        "class CustomConv2D(tf.keras.layers.Layer):\n",
        "    def __init__(self, filters, kernel_size, strides=(1, 1), padding='SAME', **kwargs):\n",
        "        super(CustomConv2D, self).__init__(**kwargs)\n",
        "        self.filters = filters\n",
        "        self.kernel_size = kernel_size\n",
        "        self.strides = strides\n",
        "        self.padding = padding\n",
        "\n",
        "    def build(self, input_shape):\n",
        "        self.kernel = self.add_weight(\n",
        "            shape=(*self.kernel_size, input_shape[-1], self.filters),\n",
        "            initializer='glorot_uniform',\n",
        "            trainable=True\n",
        "        )\n",
        "\n",
        "    def call(self, inputs):\n",
        "        return tf.nn.conv2d(\n",
        "            inputs,\n",
        "            self.kernel,\n",
        "            strides=[1, *self.strides, 1],\n",
        "            padding=self.padding\n",
        "        )\n",
        "\n",
        "def build_custom_cnn():\n",
        "    inputs = tf.keras.Input(shape=(28, 28, 1))\n",
        "    x = CustomConv2D(32, (3, 3))(inputs)\n",
        "    x = tf.keras.layers.MaxPooling2D(pool_size=(2, 2))(x)\n",
        "    x = CustomConv2D(64, (3, 3))(x)\n",
        "    x = tf.keras.layers.MaxPooling2D(pool_size=(2, 2))(x)\n",
        "    x = CustomConv2D(64, (3, 3))(x)\n",
        "    x = tf.keras.layers.Flatten()(x)\n",
        "    x = tf.keras.layers.Dense(64, activation='relu')(x)\n",
        "    outputs = tf.keras.layers.Dense(10, activation='softmax')(x)\n",
        "    model = tf.keras.Model(inputs, outputs)\n",
        "    model.compile(optimizer='adam', loss='categorical_crossentropy', metrics=['accuracy'])\n",
        "    return model"
      ],
      "metadata": {
        "id": "yANZvLPL_45S"
      },
      "execution_count": 16,
      "outputs": []
    },
    {
      "cell_type": "code",
      "source": [
        "# Train and evaluate the custom model on GPU\n",
        "with tf.device('/GPU:0'):\n",
        "    model_custom_gpu = build_custom_cnn()\n",
        "    print(\"Training Custom GPU Model with cuDNN...\")\n",
        "\n",
        "    start_time = time.time()\n",
        "    history_custom_gpu = model_custom_gpu.fit(x_train, y_train, epochs=1, batch_size=64, validation_split=0.1, verbose=2)\n",
        "    end_time = time.time()\n",
        "    custom_gpu_training_time = end_time - start_time\n",
        "\n",
        "    # Evaluate model\n",
        "    start_time = time.time()\n",
        "    test_loss, test_acc = model_custom_gpu.evaluate(x_test, y_test, verbose=2)\n",
        "    end_time = time.time()\n",
        "    custom_gpu_inference_time = end_time - start_time\n",
        "\n",
        "print(f\"Custom GPU Training Time: {custom_gpu_training_time:.2f} seconds\")\n",
        "print(f\"Custom GPU Inference Time: {custom_gpu_inference_time:.2f} seconds\")\n"
      ],
      "metadata": {
        "colab": {
          "base_uri": "https://localhost:8080/"
        },
        "id": "V2hd3iCD_9Rt",
        "outputId": "19cfb864-b98d-4380-b056-ea9bfaf7f6e7"
      },
      "execution_count": 17,
      "outputs": [
        {
          "output_type": "stream",
          "name": "stdout",
          "text": [
            "Training Custom GPU Model with cuDNN...\n",
            "844/844 - 65s - 77ms/step - accuracy: 0.9512 - loss: 0.1592 - val_accuracy: 0.9827 - val_loss: 0.0629\n",
            "313/313 - 3s - 10ms/step - accuracy: 0.9802 - loss: 0.0600\n",
            "Custom GPU Training Time: 65.61 seconds\n",
            "Custom GPU Inference Time: 5.19 seconds\n"
          ]
        }
      ]
    }
  ]
}